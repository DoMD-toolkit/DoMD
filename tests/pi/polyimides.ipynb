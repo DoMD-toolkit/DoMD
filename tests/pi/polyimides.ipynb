{
 "cells": [
  {
   "cell_type": "code",
   "id": "3ceddc5b-cd2c-4524-86d6-9b34762170f4",
   "metadata": {},
   "source": [
    "from domd_cgbuilder._conf_gen import embed_CG_system\n",
    "from domd_cgbuilder.cg_mol import CGMol\n",
    "from misc.cg_system import read_cg_topology\n",
    "from misc.io.xml_writer import write_xml\n",
    "from domd_cgbuilder.cg_ff import cg_info, GetBeadinfo, GetBondedtype\n",
    "import networkx as nx\n",
    "import numpy as np\n",
    "import math"
   ],
   "outputs": [],
   "execution_count": null
  },
  {
   "cell_type": "code",
   "id": "b478a10a-2c80-4cf1-b967-b62bc54f418c",
   "metadata": {},
   "source": [
    "smiA = 'Nc1ccc(Oc2ccc(N)cc2)cc1'\n",
    "smiB = 'O1C(=O)c2cc(Oc3cc4C(=O)OC(=O)c4cc3)ccc2C1=O'\n",
    "\n",
    "reaction_template = {\n",
    "        'A-B': {\n",
    "            'cg_reactant_list': [('A', 'B')],\n",
    "            'smarts': '[#7H2:1].[#6:3](=[#8:4])[#8:2][#6:5]=[#8:6]>>[#6:3](=[#8:4])[#7:1][#6:5]=[#8:6].[#8:2].[#1][#1]',\n",
    "            'prod_idx': [0]\n",
    "        }\n",
    "    }\n",
    "mols = {\n",
    "    'A': {'smiles': smiA, 'file': None},\n",
    "    'B': {'smiles': smiB, 'file': None},\n",
    "}"
   ],
   "outputs": [],
   "execution_count": null
  },
  {
   "cell_type": "code",
   "id": "2846c763-c62f-4038-b13a-b1b4bfeae67c",
   "metadata": {},
   "source": [
    "CG_systems = []\n",
    "types = ['A','B']\n",
    "cl = 20\n",
    "num_chains = 100\n",
    "CG_systems = []\n",
    "types = ['A','B']\n",
    "cl = 20\n",
    "num_chains = 100"
   ],
   "outputs": [],
   "execution_count": null
  },
  {
   "cell_type": "code",
   "id": "b4298179-a32d-4831-8ee3-b4b213080877",
   "metadata": {},
   "source": [
    "for ic in range(num_chains):\n",
    "    cg_mol = CGMol()\n",
    "    for i in range(cl):\n",
    "        t = types[i%2]\n",
    "        cg_mol.add_atom(ic*cl+i,t)\n",
    "    for i in range(cl-1):\n",
    "        #bt = f'{cg_mol.nodes[ic*cl+i]['type']}-{cg_mol.nodes[ic*cl+i+1]['type']}'\n",
    "        cg_mol.add_bond(ic*cl+i,ic*cl+i+1)\n",
    "    CG_systems.append(cg_mol)"
   ],
   "outputs": [],
   "execution_count": null
  },
  {
   "cell_type": "code",
   "id": "0097be1a-c899-4acb-b99c-8ef84139fcac",
   "metadata": {},
   "source": [
    "combined_graph = nx.compose_all(CG_systems)\n",
    "FFPara = GetBeadinfo(mols, reaction_template, combined_graph)\n",
    "nonBondPara, nonBondPairPara, BondPara, AnglePara, DihPara, HSPPara = FFPara"
   ],
   "outputs": [],
   "execution_count": null
  },
  {
   "cell_type": "code",
   "id": "ebc93436-7f16-4fea-b257-1f78d98a6e90",
   "metadata": {},
   "source": [
    "for cg_mol in CG_systems:\n",
    "    for i, j in cg_mol.edges():\n",
    "        ti = cg_mol.nodes[i]['type']\n",
    "        tj = cg_mol.nodes[j]['type']\n",
    "        cg_mol.nodes[i]['r'] = nonBondPara[ti]\n",
    "        cg_mol.nodes[j]['r'] = nonBondPara[tj]\n",
    "        bt = f'{ti}-{tj}' if f'{ti}-{tj}' in BondPara.keys() else f'{tj}-{ti}'\n",
    "        cg_mol.edges[(i,j)]['r0'] = BondPara[bt][0]\n",
    "        cg_mol.edges[(i,j)]['k'] = BondPara[bt][1]\n",
    "        cg_mol.edges[(i,j)]['bt'] = bt\n",
    "    bond_top, angle_top, dih_top = GetBondedtype(FFPara,cg_mol)\n",
    "\n",
    "    for angle in angle_top:\n",
    "        i,j,k = angle\n",
    "        at, t0, tk = angle_top[angle]\n",
    "        cg_mol.add_angle(i,j,k,tk=tk,t0=t0,bt=at)\n",
    "    for dih in dih_top:\n",
    "        i,j,k,l = dih\n",
    "        dt, t0, tk = dih_top[dih]\n",
    "        cg_mol.add_dihedral(i,j,k,l,tk=tk,t0=t0,bt=dt)"
   ],
   "outputs": [],
   "execution_count": null
  },
  {
   "cell_type": "code",
   "id": "39ee4918-55b8-44a8-a75b-46f949758ede",
   "metadata": {},
   "source": [
    "sigmas = np.array([round(nonBondPara[k][0],3) for k in nonBondPara])\n",
    "max_sigma = sigmas.max()\n",
    "rc = 1\n",
    "rcut = round(max_sigma*1.1,3)\n",
    "rho = 0.85\n",
    "boxl = math.ceil((len(combined_graph.nodes)*(rcut*2)**3/rho)**(1/3.0))\n",
    "box = np.array([boxl,boxl,boxl]).astype(int)\n",
    "embed_CG_system(CG_systems,box,FFPara,rc,rcut)\n",
    "\n",
    "write_xml(CG_systems,box,program='hoomd')"
   ],
   "outputs": [],
   "execution_count": null
  },
  {
   "cell_type": "code",
   "id": "f8c96d49-c226-4621-8151-a276434fe3d5",
   "metadata": {},
   "source": [
    "# load xml CG conformation file\n",
    "\n",
    "#from misc.cg_system import read_cg_topoloy\n",
    "from misc.io.xml_reader import XmlParser\n",
    "import os\n",
    "\n",
    "xml = XmlParser(os.path.join('cg','final.xml'))\n",
    "box = (xml.box.lx, xml.box.ly, xml.box.lz, xml.box.xy, xml.box.xz, xml.box.yz)\n",
    "box = np.array(tuple(map(float, box))[:3]) * 10  # a\n",
    "cg_sys, cg_mols = read_cg_topology(xml, mols)"
   ],
   "outputs": [],
   "execution_count": null
  },
  {
   "metadata": {},
   "cell_type": "code",
   "source": [
    "# build the whole molecule via reaction\n",
    "from domd_topology.reactor import Reactor\n",
    "from domd_topology.functions import set_molecule_id_for_h\n",
    "from rdkit import Chem\n",
    "from rdkit.Chem import AllChem\n",
    "reactor = Reactor(mols, reaction_template)\n",
    "\n",
    "# find tri / di reactions for polyimide\n",
    "reactions = []\n",
    "for bond in xml.data['bond']:\n",
    "    reactions.append((bond[0], bond[1], bond[2]))\n",
    "# end"
   ],
   "id": "c9e462e5992fa52",
   "outputs": [],
   "execution_count": null
  },
  {
   "metadata": {},
   "cell_type": "code",
   "source": [
    "aa_mols, meta = reactor.process(cg_mols, reactions)\n",
    "[Chem.SanitizeMol(_) for _ in aa_mols]\n",
    "aa_mols_h = [Chem.AddHs(m) for m in aa_mols]\n",
    "[set_molecule_id_for_h(m) for m in aa_mols_h]"
   ],
   "id": "69a2b7b6c7973dde",
   "outputs": [],
   "execution_count": null
  },
  {
   "metadata": {},
   "cell_type": "code",
   "source": [
    "# embed molecule\n",
    "from domd_xyz.embed_molecule import embed_molecule\n",
    "aa_mol = aa_mols_h[0]\n",
    "conf = embed_molecule(aa_mol, cg_mols[0], box = box)\n",
    "#conf.GetPositions()\n",
    "#conf = aa_mol.GetConformer(0)"
   ],
   "id": "9baf7b216f80c",
   "outputs": [],
   "execution_count": null
  },
  {
   "metadata": {},
   "cell_type": "code",
   "source": [
    "# force field parameterization\n",
    "\n",
    "from domd_forcefield.oplsaa.opls import OplsFF\n",
    "from domd_forcefield.oplsaa.opls_db import opls_db\n",
    "from domd_forcefield.oplsaa.ml import MLModel\n",
    "from domd_forcefield.oplsaa.ml import OplsMlRule\n",
    "from domd_forcefield.oplsaa.ml_functions.models import mlnonbond, mlbond, mlangle, mlcharge, mldihedral\n",
    "gmx_rules = opls_db.rules\n",
    "\n",
    "ff = OplsFF(database=opls_db,gmx_rules=gmx_rules,custom_typing=[MLModel], custom_angles=[MLModel],\n",
    "                        custom_dihedrals=[MLModel], custom_bonding=[MLModel])\n",
    "ff.parameterize(aa_mol)"
   ],
   "id": "d0dbd5f67975cd0c",
   "outputs": [],
   "execution_count": null
  },
  {
   "metadata": {},
   "cell_type": "code",
   "source": [
    "ff_params = {}\n",
    "ff_params['atoms'] = ff.atoms"
   ],
   "id": "12fc4306b359cd98",
   "outputs": [],
   "execution_count": null
  },
  {
   "metadata": {},
   "cell_type": "code",
   "source": "from misc.io.assemble import assemble_opls",
   "id": "64067b97f203bdd4",
   "outputs": [],
   "execution_count": null
  },
  {
   "metadata": {},
   "cell_type": "code",
   "source": "ret = assemble_opls([aa_mol],[ff],[conf])",
   "id": "9f9d70f46c6167fe",
   "outputs": [],
   "execution_count": null
  },
  {
   "metadata": {},
   "cell_type": "code",
   "source": "ret",
   "id": "e3b59c8b9e3a3c57",
   "outputs": [],
   "execution_count": null
  },
  {
   "metadata": {},
   "cell_type": "code",
   "source": "aa_system, xyz, all_forcefields, mols_graphs = ret",
   "id": "c4107357223ef029",
   "outputs": [],
   "execution_count": null
  },
  {
   "metadata": {},
   "cell_type": "code",
   "source": "from misc.io.xml_writer import write_xml_opls",
   "id": "d4a1281053e3d421",
   "outputs": [],
   "execution_count": null
  },
  {
   "metadata": {},
   "cell_type": "code",
   "source": "write_xml_opls(aa_system, xyz, all_forcefields,box=list(box)+[0,0,0],program='mol0')",
   "id": "b64f7f6efe839768",
   "outputs": [],
   "execution_count": null
  },
  {
   "metadata": {},
   "cell_type": "code",
   "source": "from misc.io.gmx_writer import write_gro_opls",
   "id": "f745db6e1b5ef94",
   "outputs": [],
   "execution_count": null
  },
  {
   "metadata": {},
   "cell_type": "code",
   "source": "write_gro_opls(aa_system, xyz, all_forcefields,mols_graphs,box=list(box)+[0,0,0],postfix='mol0',ext='pdb')",
   "id": "338653e086e3de8c",
   "outputs": [],
   "execution_count": null
  },
  {
   "metadata": {},
   "cell_type": "code",
   "source": "",
   "id": "b022ba9b581f325",
   "outputs": [],
   "execution_count": null
  }
 ],
 "metadata": {
  "kernelspec": {
   "display_name": "Python 3 (ipykernel)",
   "language": "python",
   "name": "python3"
  },
  "language_info": {
   "codemirror_mode": {
    "name": "ipython",
    "version": 3
   },
   "file_extension": ".py",
   "mimetype": "text/x-python",
   "name": "python",
   "nbconvert_exporter": "python",
   "pygments_lexer": "ipython3",
   "version": "3.12.3"
  }
 },
 "nbformat": 4,
 "nbformat_minor": 5
}
